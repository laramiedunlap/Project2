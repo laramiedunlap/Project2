{
 "cells": [
  {
   "cell_type": "code",
   "execution_count": 3,
   "metadata": {},
   "outputs": [],
   "source": [
    "import pandas as pd\n",
    "from finta import TA\n",
    "from pathlib import Path\n",
    "\n",
    "df_demo = pd.read_csv(Path('raw_data/SPY_data.csv'))\n",
    "df_demo_demo = '../raw_data/SPY_data.csv'\n"
   ]
  },
  {
   "cell_type": "code",
   "execution_count": 4,
   "metadata": {},
   "outputs": [],
   "source": [
    "def create_df(df_ohlcv):\n",
    "    df = pd.read_csv(Path(f'raw_data/{df_ohlcv}'))\n",
    "    df = df.drop(columns='Unnamed: 0')\n",
    "    df.set_index('timestamp', inplace=True)\n",
    "    return df "
   ]
  },
  {
   "cell_type": "code",
   "execution_count": 5,
   "metadata": {},
   "outputs": [],
   "source": [
    "# BBands Volatility bands placed above and below the moving average, distance between bands in STD\n",
    "# ATR AVerage True Range moving\n",
    "def BB_ATR(filepath):\n",
    "    df = create_df(filepath)\n",
    "    df[['BB_UPPER', 'BB_MIDDLE', 'BB_LOWER']] = TA.BBANDS(df)\n",
    "    df['ATR'] = TA.ATR(df)\n",
    "    return df\n"
   ]
  },
  {
   "cell_type": "code",
   "execution_count": 6,
   "metadata": {},
   "outputs": [],
   "source": [
    "# VBM volatility momentum, divides by historical volatility\n",
    "# KAMA moving average for volatility\n",
    "def VBM_KAMA(filepath):\n",
    "    df = create_df(filepath)\n",
    "    df['VBM'] = TA.VBM(df)\n",
    "    df['KAMA'] = TA.KAMA(df)\n",
    "    return df"
   ]
  },
  {
   "cell_type": "code",
   "execution_count": 7,
   "metadata": {},
   "outputs": [],
   "source": [
    "# DYMI 0-100; <30 = oversold; >70 = overbought\n",
    "# KC Similar to BBands; uses ATR instead of STD for distance between average and the bands\n",
    "def DYMI_KC(filepath):\n",
    "    df = create_df(filepath)\n",
    "    df['DYMI'] = TA.DYMI(df)\n",
    "    df[['KC Upper', 'KC Lower']] = TA.KC(df)\n",
    "    return df\n"
   ]
  },
  {
   "cell_type": "code",
   "execution_count": 8,
   "metadata": {},
   "outputs": [],
   "source": [
    "# MI identifies trend reversals using range\n",
    "# APZ good for markets without strong trend\n",
    "def APZ_MI(filepath):\n",
    "    df = create_df(filepath)\n",
    "    df[['APZ Upper', 'APZ Lower']] = TA.APZ(df)\n",
    "    df['MSD'] = TA.MSD(df)\n",
    "    return df"
   ]
  },
  {
   "cell_type": "code",
   "execution_count": null,
   "metadata": {},
   "outputs": [],
   "source": [
    "# doesn't work\n",
    "def combine_any_indicators(filepath,indicator_1, indicator_2):\n",
    "    df = create_df(filepath)\n",
    "    indicator_1 = f\"{indicator_1}\"\n",
    "    indicator_2 = f\"{indicator_2}\"\n",
    "    df[indicator_1] = TA.indicator_1(df)\n",
    "    df[indicator_2] = TA.indicator_2(df)\n",
    "    return df \n",
    "\n",
    "combine_any_indicators(df_demo_demo,\"DYMI\", \"ATR\")"
   ]
  },
  {
   "cell_type": "code",
   "execution_count": 15,
   "metadata": {},
   "outputs": [
    {
     "ename": "ValueError",
     "evalue": "The truth value of a Series is ambiguous. Use a.empty, a.bool(), a.item(), a.any() or a.all().",
     "output_type": "error",
     "traceback": [
      "\u001b[1;31m---------------------------------------------------------------------------\u001b[0m",
      "\u001b[1;31mValueError\u001b[0m                                Traceback (most recent call last)",
      "\u001b[1;32m~\\AppData\\Local\\Temp\\ipykernel_10304\\2584448231.py\u001b[0m in \u001b[0;36m<module>\u001b[1;34m\u001b[0m\n\u001b[0;32m     15\u001b[0m            \u001b[1;32mreturn\u001b[0m \u001b[0mindicator\u001b[0m\u001b[1;33m[\u001b[0m\u001b[1;34m'indicator_all_caps'\u001b[0m\u001b[1;33m]\u001b[0m\u001b[1;33m\u001b[0m\u001b[1;33m\u001b[0m\u001b[0m\n\u001b[0;32m     16\u001b[0m \u001b[1;33m\u001b[0m\u001b[0m\n\u001b[1;32m---> 17\u001b[1;33m \u001b[0mreturn_indicator\u001b[0m\u001b[1;33m(\u001b[0m\u001b[0mdf_demo_demo\u001b[0m\u001b[1;33m,\u001b[0m \u001b[1;34m\"ATR\"\u001b[0m\u001b[1;33m)\u001b[0m\u001b[1;33m\u001b[0m\u001b[1;33m\u001b[0m\u001b[0m\n\u001b[0m",
      "\u001b[1;32m~\\AppData\\Local\\Temp\\ipykernel_10304\\2584448231.py\u001b[0m in \u001b[0;36mreturn_indicator\u001b[1;34m(filepath, indicator_all_caps)\u001b[0m\n\u001b[0;32m     11\u001b[0m    \u001b[0mindicator_list\u001b[0m \u001b[1;33m=\u001b[0m \u001b[1;33m[\u001b[0m\u001b[0mATR\u001b[0m\u001b[1;33m,\u001b[0m\u001b[0mBBANDS\u001b[0m\u001b[1;33m,\u001b[0m\u001b[0mAPZ\u001b[0m\u001b[1;33m,\u001b[0m\u001b[0mMI\u001b[0m\u001b[1;33m]\u001b[0m\u001b[1;33m\u001b[0m\u001b[1;33m\u001b[0m\u001b[0m\n\u001b[0;32m     12\u001b[0m    \u001b[1;32mfor\u001b[0m \u001b[0mindicator\u001b[0m \u001b[1;32min\u001b[0m \u001b[0mindicator_list\u001b[0m\u001b[1;33m:\u001b[0m\u001b[1;33m\u001b[0m\u001b[1;33m\u001b[0m\u001b[0m\n\u001b[1;32m---> 13\u001b[1;33m        \u001b[1;32mif\u001b[0m \u001b[0mindicator\u001b[0m \u001b[1;33m==\u001b[0m \u001b[0mindicator_all_caps\u001b[0m\u001b[1;33m:\u001b[0m\u001b[1;33m\u001b[0m\u001b[1;33m\u001b[0m\u001b[0m\n\u001b[0m\u001b[0;32m     14\u001b[0m            \u001b[0mindicator\u001b[0m \u001b[1;33m=\u001b[0m \u001b[0mindicator_all_caps\u001b[0m\u001b[1;33m\u001b[0m\u001b[1;33m\u001b[0m\u001b[0m\n\u001b[0;32m     15\u001b[0m            \u001b[1;32mreturn\u001b[0m \u001b[0mindicator\u001b[0m\u001b[1;33m[\u001b[0m\u001b[1;34m'indicator_all_caps'\u001b[0m\u001b[1;33m]\u001b[0m\u001b[1;33m\u001b[0m\u001b[1;33m\u001b[0m\u001b[0m\n",
      "\u001b[1;32mc:\\Users\\Administrator\\anaconda3\\envs\\pyvizenv\\lib\\site-packages\\pandas\\core\\generic.py\u001b[0m in \u001b[0;36m__nonzero__\u001b[1;34m(self)\u001b[0m\n\u001b[0;32m   1536\u001b[0m     \u001b[1;32mdef\u001b[0m \u001b[0m__nonzero__\u001b[0m\u001b[1;33m(\u001b[0m\u001b[0mself\u001b[0m\u001b[1;33m)\u001b[0m\u001b[1;33m:\u001b[0m\u001b[1;33m\u001b[0m\u001b[1;33m\u001b[0m\u001b[0m\n\u001b[0;32m   1537\u001b[0m         raise ValueError(\n\u001b[1;32m-> 1538\u001b[1;33m             \u001b[1;34mf\"The truth value of a {type(self).__name__} is ambiguous. \"\u001b[0m\u001b[1;33m\u001b[0m\u001b[1;33m\u001b[0m\u001b[0m\n\u001b[0m\u001b[0;32m   1539\u001b[0m             \u001b[1;34m\"Use a.empty, a.bool(), a.item(), a.any() or a.all().\"\u001b[0m\u001b[1;33m\u001b[0m\u001b[1;33m\u001b[0m\u001b[0m\n\u001b[0;32m   1540\u001b[0m         )\n",
      "\u001b[1;31mValueError\u001b[0m: The truth value of a Series is ambiguous. Use a.empty, a.bool(), a.item(), a.any() or a.all()."
     ]
    }
   ],
   "source": [
    "# doesnt work\n",
    "def return_indicator(filepath, indicator_all_caps):\n",
    "    \n",
    "\n",
    "\n",
    "\n",
    "   df = create_df(filepath)\n",
    "   ATR = TA.ATR(df)\n",
    "   BBANDS =  TA.BBANDS(df)\n",
    "   APZ = TA.APZ(df)\n",
    "   MI = TA.MI(df)\n",
    "   indicator_list = [ATR,BBANDS,APZ,MI]\n",
    "   for indicator in indicator_list:\n",
    "       if indicator == indicator_all_caps:\n",
    "           indicator = indicator_all_caps\n",
    "           return indicator['indicator_all_caps']\n",
    "\n",
    "return_indicator(df_demo_demo, \"ATR\")"
   ]
  },
  {
   "cell_type": "code",
   "execution_count": null,
   "metadata": {},
   "outputs": [],
   "source": []
  },
  {
   "cell_type": "code",
   "execution_count": null,
   "metadata": {},
   "outputs": [],
   "source": [
    "def mix_pair_indicators(df_1, df_2):\n",
    "    df = df_1.merge(df_2, how='inner', right_index=True, left_index=True)\n",
    "    df = df.drop(columns=['open_y', 'high_y','low_y','close_y', 'volume_y','trade_count_y','vwap_y'])\n",
    "    df = df.rename(columns={'open_x':'open', 'high_x':'high', 'low_x':'low', 'close_x':'close', 'volume_x':'volume', 'trade_count_x':'trade_count', 'vwap_x':'vwap'})\n",
    "    return df"
   ]
  },
  {
   "cell_type": "code",
   "execution_count": null,
   "metadata": {},
   "outputs": [],
   "source": [
    "def featues_only(df_1, df_2):\n",
    "    "
   ]
  }
 ],
 "metadata": {
  "interpreter": {
   "hash": "83e1771ce1f9df5de1670795847cb857ef6bf5f13021e3cce81b976772d7099f"
  },
  "kernelspec": {
   "display_name": "Python 3.7.11 ('base')",
   "language": "python",
   "name": "python3"
  },
  "language_info": {
   "codemirror_mode": {
    "name": "ipython",
    "version": 3
   },
   "file_extension": ".py",
   "mimetype": "text/x-python",
   "name": "python",
   "nbconvert_exporter": "python",
   "pygments_lexer": "ipython3",
   "version": "3.7.11"
  },
  "orig_nbformat": 4
 },
 "nbformat": 4,
 "nbformat_minor": 2
}
