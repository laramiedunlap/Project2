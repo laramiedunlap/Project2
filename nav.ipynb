{
 "cells": [
  {
   "cell_type": "code",
   "execution_count": 532,
   "metadata": {},
   "outputs": [],
   "source": [
    "import pandas as pd\n",
    "from finta import TA\n",
    "from pathlib import Path\n",
    "import random\n",
    "\n",
    "df_demo = pd.read_csv(Path('raw_data/SPY_data.csv'))\n",
    "df_demo_demo = '../raw_data/SPY_data.csv'\n"
   ]
  },
  {
   "cell_type": "markdown",
   "metadata": {},
   "source": [
    "All of the minimized functions are functions I worked on but became obsolete due to having to shift the goal of the project a bit. I thought I \n",
    "\n",
    "would still leave them here "
   ]
  },
  {
   "cell_type": "code",
   "execution_count": 533,
   "metadata": {},
   "outputs": [],
   "source": [
    "def create_df(df_ohlcv):\n",
    "    # create a base dataframe from an imported csv file\n",
    "    df = pd.read_csv(Path(f'raw_data/{df_ohlcv}'))\n",
    "    df = df.drop(columns='Unnamed: 0')\n",
    "    df['date'] = pd.to_datetime(df['date']).dt.date\n",
    "    df['date'] = pd.to_datetime(df['date'])\n",
    "    df.set_index('date', inplace=True)\n",
    "    return df "
   ]
  },
  {
   "cell_type": "code",
   "execution_count": 567,
   "metadata": {},
   "outputs": [],
   "source": [
    "def choose_indicator(indicator):\n",
    "    #Pick an indicator to addd to base dataframe\n",
    "    indicator = indicator.upper() \n",
    "\n",
    "    # df = create_df(filepath)\n",
    "    if indicator == 'ATR':\n",
    "        df['ATR'] = TA.ATR(df)\n",
    "        \n",
    "    elif indicator == 'BBANDS':\n",
    "        df[['BBANDS Upper','Moving Average', 'BBands Lower']] = TA.BBANDS(df)\n",
    "\n",
    "    elif indicator == 'VBM':\n",
    "        df['VBM'] = TA.VBM(df)\n",
    "\n",
    "    elif indicator == 'KAMA':\n",
    "        df['KAMA'] = TA.KAMA(df)\n",
    "\n",
    "    elif indicator == 'DYMI':\n",
    "        df['DYMI'] = TA.DYMI(df)\n",
    "\n",
    "    elif indicator == 'KC':\n",
    "        df[['KC Upper', 'KC Lower']] = TA.KC(df)\n",
    "\n",
    "    elif indicator == 'APZ':\n",
    "        df[['APZ Upper', 'APZ Lower']] = TA.APZ(df)\n",
    "       \n",
    "    elif indicator == 'MI':\n",
    "        df['MI'] = TA.MI(df)\n",
    "\n",
    "    else:\n",
    "        print(\"Indicator not a volatility indicator\")\n",
    "         \n",
    "\n",
    "    return df"
   ]
  },
  {
   "cell_type": "code",
   "execution_count": 566,
   "metadata": {},
   "outputs": [],
   "source": [
    "\n",
    "def custom_pair_indicators(filepath, indicator_1, indicator_2):\n",
    "    # pair any two indicators into a single dataframe\n",
    "    # need to create two instances of choose indicator \n",
    "    indicator_1 = indicator_1.upper()\n",
    "    indicator_2 = indicator_2.upper()\n",
    "    \n",
    "    df_1 = choose_indicator(filepath, indicator_1)\n",
    "    df_2 = choose_indicator(filepath, indicator_2)\n",
    "    \n",
    "    df = df_1.merge(df_2, how='inner', right_index=True, left_index=True)\n",
    "    df = df.drop(columns=['open_y', 'high_y','low_y','close_y', 'volume_y','trade_count_y','vwap_y'])\n",
    "    df = df.rename(columns={'open_x':'open', 'high_x':'high', 'low_x':'low', 'close_x':'close', 'volume_x':'volume', 'trade_count_x':'trade_count', 'vwap_x':'vwap'})\n",
    "    return df"
   ]
  },
  {
   "cell_type": "code",
   "execution_count": 536,
   "metadata": {},
   "outputs": [],
   "source": [
    "def drop_any_column(df, *drop_list):\n",
    "    # drop any column you like\n",
    "    for drop_me in drop_list:\n",
    "        df = df.drop(columns=drop_me)\n",
    "    return df\n"
   ]
  },
  {
   "cell_type": "code",
   "execution_count": 537,
   "metadata": {},
   "outputs": [],
   "source": [
    "def mix_pair_indicators(df_1, df_2):\n",
    "    # merge two different combinatoins of indicators into one frame\n",
    "    df = df_1.merge(df_2, how='inner', right_index=True, left_index=True)\n",
    "    df = df.drop(columns=['open_y', 'high_y','low_y','close_y', 'volume_y','trade_count_y','vwap_y'])\n",
    "    df = df.rename(columns={'open_x':'open', 'high_x':'high', 'low_x':'low', 'close_x':'close', 'volume_x':'volume', 'trade_count_x':'trade_count', 'vwap_x':'vwap'})\n",
    "    return df\n"
   ]
  },
  {
   "cell_type": "code",
   "execution_count": 538,
   "metadata": {},
   "outputs": [],
   "source": [
    "def apply_rolling_window(df, period,*columns):\n",
    "    # apply rolling window to any column\n",
    "    for col in columns:\n",
    "        df[f'{col}'] = df[f'{col}'].rolling(window=period).mean()\n",
    "    return df\n"
   ]
  },
  {
   "cell_type": "code",
   "execution_count": 540,
   "metadata": {},
   "outputs": [],
   "source": [
    "def get_column_range(df,period,*columns):\n",
    "        # get the rolling range of a column\n",
    "        for col in columns:\n",
    "                high = df[f'{col}'].rolling(window=period).max()\n",
    "                low = df[f'{col}'].rolling(window=period).min()\n",
    "                df[f'{col} {period} period rolling range'] = high -low\n",
    "        return df\n"
   ]
  },
  {
   "cell_type": "code",
   "execution_count": 541,
   "metadata": {},
   "outputs": [],
   "source": [
    "# create a function that takes indicators and drop columns as arguemt\n",
    "# then generates random strings to get indicators merged on single dataframe\n",
    "def generate_random_df(filepath, rolling_window=False, drop_basic_column=False, column_range=False):\n",
    "    indicator_list = ['ATR', 'DYMI', 'APZ','KC','VBM','BBANDS','MI', 'KAMA']\n",
    "    all_column_list = ['ATR', 'DYMI', 'APZ','KC','VBM','BBANDS','MI', 'KAMA', 'close','open','high','low']\n",
    "    base_columns = ['close','open','high','low','trade_count','vwap']\n",
    "    indicator_1 = random.choice(indicator_list)\n",
    "    indicator_2 = random.choice(indicator_list)\n",
    "    if indicator_2 != indicator_1:\n",
    "        df = custom_pair_indicators(filepath, indicator_1, indicator_2)\n",
    "        if rolling_window == True:\n",
    "            random_window = random.choice(range(2,10))\n",
    "            column_rolling = random.choice(base_columns)          \n",
    "            # not accepting my columns perameter\n",
    "            df = apply_rolling_window(df,random_window,column_rolling)\n",
    "        if drop_basic_column == True:\n",
    "            drop_me = random.choice(base_columns)\n",
    "            df = drop_any_column(df, drop_me)\n",
    "        if column_range == True:\n",
    "            range_period = random.choice(range(2,10))\n",
    "            df = get_column_range(df, range_period, indicator_1)\n",
    "            \n",
    "        # indicators with mulitple columns not passing though    \n",
    "\n",
    "    return df \n",
    "        "
   ]
  },
  {
   "cell_type": "markdown",
   "metadata": {},
   "source": [
    "- create an explanation summary function of each time the function is ran\n",
    "\n",
    "- then upload each epoch to a dataframe\n",
    "\n",
    "- two moving exponential moving averages\n",
    "\n",
    "- look into the angle of a moving average"
   ]
  },
  {
   "cell_type": "markdown",
   "metadata": {},
   "source": [
    "create a function that combine all indicators into one df change the moving average rolling period randomly to random columns\n",
    "\n",
    "things to do:\n",
    "\n",
    "- take in the filepath and create a csv\n",
    "\n",
    "\n",
    "- combine all of the indicators using for loop and the indicator function\n",
    "\n",
    "\n",
    "- create a randomness to apply different rolling averages to different columns\n",
    "\n",
    "\n",
    "- create a df that records all of the inputs to each individual dataframe\n",
    "\n"
   ]
  },
  {
   "cell_type": "code",
   "execution_count": null,
   "metadata": {},
   "outputs": [],
   "source": [
    "def random_rolling_columns(filepath):\n",
    "    df = create_df(filepath)\n",
    "    indicators = ['ATR', 'DYMI','VBM','MI', 'KAMA']\n",
    "    for signal in indicators:\n",
    "        column = choose_indicator(filepath,signal)\n",
    "        df[signal] = column[signal]\n",
    "        \n",
    "\n",
    "            \n",
    "\n",
    "        \n",
    "    return df\n",
    "\n",
    "random_rolling_columns(df_demo_demo)\n",
    "    "
   ]
  },
  {
   "cell_type": "code",
   "execution_count": null,
   "metadata": {},
   "outputs": [],
   "source": [
    "def random_rolling_columns(filepath):\n",
    "    df = create_df(filepath)\n",
    "    indicators = ['ATR', 'DYMI','VBM','MI', 'KAMA', 'BBANDS', 'APZ','KC']\n",
    "    for signal in indicators:\n",
    "        column = choose_indicator(filepath,signal)\n",
    "        if signal == \"KC\" or 'APZ':\n",
    "            df[f'{signal} Upper'] = column.iloc[:,7:7]\n",
    "            df[f'{signal} Lower'] = column.iloc[:,8:8]\n",
    "        # elif\n",
    "\n",
    "        else:\n",
    "         df[signal] = column[signal]\n",
    "        \n",
    "\n",
    "        \n",
    "    return df\n",
    "\n",
    "random_rolling_columns(df_demo_demo)"
   ]
  },
  {
   "cell_type": "code",
   "execution_count": null,
   "metadata": {},
   "outputs": [],
   "source": [
    "import import_ipynb\n",
    "import ying\n",
    "import Laramie\n",
    "import utils_laramie"
   ]
  },
  {
   "cell_type": "markdown",
   "metadata": {},
   "source": [
    "# create functions where we can add indicators into dataframe with the rest of the data \n",
    "-maybe create a weekly averaeg for each indicator and add that to the df_1\n",
    "\n",
    "-create more csvs with indicators"
   ]
  },
  {
   "cell_type": "code",
   "execution_count": null,
   "metadata": {},
   "outputs": [
    {
     "data": {
      "text/html": [
       "<div>\n",
       "<style scoped>\n",
       "    .dataframe tbody tr th:only-of-type {\n",
       "        vertical-align: middle;\n",
       "    }\n",
       "\n",
       "    .dataframe tbody tr th {\n",
       "        vertical-align: top;\n",
       "    }\n",
       "\n",
       "    .dataframe thead th {\n",
       "        text-align: right;\n",
       "    }\n",
       "</style>\n",
       "<table border=\"1\" class=\"dataframe\">\n",
       "  <thead>\n",
       "    <tr style=\"text-align: right;\">\n",
       "      <th></th>\n",
       "      <th>ATR</th>\n",
       "      <th>DYMI</th>\n",
       "    </tr>\n",
       "  </thead>\n",
       "  <tbody>\n",
       "    <tr>\n",
       "      <th>0</th>\n",
       "      <td>NaN</td>\n",
       "      <td>NaN</td>\n",
       "    </tr>\n",
       "    <tr>\n",
       "      <th>1</th>\n",
       "      <td>NaN</td>\n",
       "      <td>NaN</td>\n",
       "    </tr>\n",
       "    <tr>\n",
       "      <th>2</th>\n",
       "      <td>NaN</td>\n",
       "      <td>NaN</td>\n",
       "    </tr>\n",
       "    <tr>\n",
       "      <th>3</th>\n",
       "      <td>NaN</td>\n",
       "      <td>NaN</td>\n",
       "    </tr>\n",
       "    <tr>\n",
       "      <th>4</th>\n",
       "      <td>NaN</td>\n",
       "      <td>NaN</td>\n",
       "    </tr>\n",
       "    <tr>\n",
       "      <th>...</th>\n",
       "      <td>...</td>\n",
       "      <td>...</td>\n",
       "    </tr>\n",
       "    <tr>\n",
       "      <th>1050</th>\n",
       "      <td>10.399414</td>\n",
       "      <td>41.516734</td>\n",
       "    </tr>\n",
       "    <tr>\n",
       "      <th>1051</th>\n",
       "      <td>10.251557</td>\n",
       "      <td>41.338068</td>\n",
       "    </tr>\n",
       "    <tr>\n",
       "      <th>1052</th>\n",
       "      <td>9.734414</td>\n",
       "      <td>49.047465</td>\n",
       "    </tr>\n",
       "    <tr>\n",
       "      <th>1053</th>\n",
       "      <td>9.584414</td>\n",
       "      <td>77.052721</td>\n",
       "    </tr>\n",
       "    <tr>\n",
       "      <th>1054</th>\n",
       "      <td>9.594414</td>\n",
       "      <td>78.046273</td>\n",
       "    </tr>\n",
       "  </tbody>\n",
       "</table>\n",
       "<p>1055 rows × 2 columns</p>\n",
       "</div>"
      ],
      "text/plain": [
       "            ATR       DYMI\n",
       "0           NaN        NaN\n",
       "1           NaN        NaN\n",
       "2           NaN        NaN\n",
       "3           NaN        NaN\n",
       "4           NaN        NaN\n",
       "...         ...        ...\n",
       "1050  10.399414  41.516734\n",
       "1051  10.251557  41.338068\n",
       "1052   9.734414  49.047465\n",
       "1053   9.584414  77.052721\n",
       "1054   9.594414  78.046273\n",
       "\n",
       "[1055 rows x 2 columns]"
      ]
     },
     "execution_count": 527,
     "metadata": {},
     "output_type": "execute_result"
    }
   ],
   "source": [
    "def configure_indicators(df_1):\n",
    "    df1_indicators = df_1.iloc[:,6:]\n",
    "    # df1_indicators = calc_weekly_range_MODIFIED(df1_indicators)\n",
    "    df1_indicators = Laramie.grp_y_wk_d(df1_indicators)\n",
    "    df1_indicators = Laramie.drop_off_weeks(df1_indicators)\n",
    "    # df = pd.concat([df_1,df1_indicators],axis=0)\n",
    "    return df1_indicators\n",
    "me = configure_indicators(df_1)\n",
    "me"
   ]
  },
  {
   "cell_type": "code",
   "execution_count": 546,
   "metadata": {},
   "outputs": [],
   "source": [
    "def standard_df():\n",
    "    df_1 = (Laramie.get_df(Laramie.get_all_raw_data()))\n",
    "    df_1 = Laramie.calc_weekly_range(df_1)\n",
    "    df_1 = Laramie.grp_y_wk_d(df_1)\n",
    "    df_1 = Laramie.drop_off_weeks(df_1)\n",
    "    df_1 = df_1.drop(columns={'VIX_open','VIX_high','VIX_low','VIX_close'})\n",
    "    return df_1\n",
    "\n",
    "df = standard_df()"
   ]
  },
  {
   "cell_type": "code",
   "execution_count": 606,
   "metadata": {},
   "outputs": [],
   "source": [
    "df = utils_laramie.get_df(utils_laramie.get_all_raw_data())\n",
    "df = df[df.columns.to_list()[:4]]\n",
    "df.columns = ['open', 'high','low','close']\n",
    "def indicator_df(df):\n",
    "    indicators = ['Atr', 'VBM', 'MI','KAMA','BBANDS','APZ','KC','DYmi']\n",
    "    for signal in indicators:\n",
    "     df = choose_indicator(signal)\n",
    "    return df\n",
    "\n",
    "df = indicator_df(df)\n",
    "df = df.rename(columns={'open':'SPY_open','high':'SPY_high','low':'SPY_low','close':'SPY_close'})\n",
    "df = Laramie.calc_weekly_range(df)\n",
    "df = Laramie.grp_y_wk_d(df)\n",
    "df = Laramie.drop_off_weeks(df)\n",
    "# df = df.drop(columns=['BBANDS Upper','Moving Average','MI', 'KC Upper' ,'KC Lower'])\n",
    "# df.to_csv('drop_bbands_apz.csv')\n",
    "df_copy = df.copy()"
   ]
  },
  {
   "cell_type": "code",
   "execution_count": 626,
   "metadata": {},
   "outputs": [],
   "source": [
    "ohlc_new_df = df_copy[['SPY_high','SPY_low', 'ATR','weekly_range']]\n",
    "new_df = df_copy[['VBM','MI', 'weekly_range']]\n",
    "ohlc_new_df.to_csv('HL_ATR.csv')\n"
   ]
  }
 ],
 "metadata": {
  "interpreter": {
   "hash": "5fdbc94104102861374f83321bcd762642a46be0574421dfbb612a275f5a228d"
  },
  "kernelspec": {
   "display_name": "Python 3.7.11 ('pyvizenv')",
   "language": "python",
   "name": "python3"
  },
  "language_info": {
   "codemirror_mode": {
    "name": "ipython",
    "version": 3
   },
   "file_extension": ".py",
   "mimetype": "text/x-python",
   "name": "python",
   "nbconvert_exporter": "python",
   "pygments_lexer": "ipython3",
   "version": "3.7.11"
  },
  "orig_nbformat": 4
 },
 "nbformat": 4,
 "nbformat_minor": 2
}
